{
 "cells": [
  {
   "cell_type": "markdown",
   "metadata": {},
   "source": [
    "## 1. import"
   ]
  },
  {
   "cell_type": "code",
   "execution_count": 8,
   "metadata": {},
   "outputs": [],
   "source": [
    "import pandas as pd\n",
    "import torch\n",
    "from IPython.display import display\n",
    "import matplotlib.pyplot as plt\n",
    "import seaborn as sns\n",
    "from sklearn.model_selection import KFold\n",
    "from sklearn.metrics import roc_auc_score\n",
    "from xgboost import XGBClassifier\n",
    "import numpy as np\n",
    "import re\n",
    "from collections import Counter\n",
    "from itertools import chain\n",
    "from autogluon.multimodal import MultiModalPredictor\n",
    "from sklearn.utils.class_weight import compute_class_weight\n",
    "import os\n",
    "\n",
    "# os.environ[\"CUDA_VISIBLE_DEVICES\"] = \"0\""
   ]
  },
  {
   "cell_type": "markdown",
   "metadata": {},
   "source": [
    "## 2. 데이터 불러오기"
   ]
  },
  {
   "cell_type": "code",
   "execution_count": 2,
   "metadata": {},
   "outputs": [],
   "source": [
    "# 데이터 불러오기\n",
    "train_df = pd.read_csv('./data/train.csv')\n",
    "test_df = pd.read_csv('./data/test.csv')"
   ]
  },
  {
   "cell_type": "code",
   "execution_count": 3,
   "metadata": {},
   "outputs": [],
   "source": [
    "# [.] => .\n",
    "train_df['URL'] = train_df['URL'].apply(lambda x: x.replace('[.]', '.'))\n",
    "test_df['URL'] = test_df['URL'].apply(lambda x: x.replace('[.]', '.'))"
   ]
  },
  {
   "cell_type": "code",
   "execution_count": 4,
   "metadata": {},
   "outputs": [
    {
     "data": {
      "text/html": [
       "<div>\n",
       "<style scoped>\n",
       "    .dataframe tbody tr th:only-of-type {\n",
       "        vertical-align: middle;\n",
       "    }\n",
       "\n",
       "    .dataframe tbody tr th {\n",
       "        vertical-align: top;\n",
       "    }\n",
       "\n",
       "    .dataframe thead th {\n",
       "        text-align: right;\n",
       "    }\n",
       "</style>\n",
       "<table border=\"1\" class=\"dataframe\">\n",
       "  <thead>\n",
       "    <tr style=\"text-align: right;\">\n",
       "      <th></th>\n",
       "      <th>ID</th>\n",
       "      <th>URL</th>\n",
       "      <th>label</th>\n",
       "    </tr>\n",
       "  </thead>\n",
       "  <tbody>\n",
       "    <tr>\n",
       "      <th>0</th>\n",
       "      <td>TRAIN_0000000</td>\n",
       "      <td>poznan.wuoz.gov.pl</td>\n",
       "      <td>0</td>\n",
       "    </tr>\n",
       "    <tr>\n",
       "      <th>1</th>\n",
       "      <td>TRAIN_0000001</td>\n",
       "      <td>vill.okawa.kochi.jp</td>\n",
       "      <td>0</td>\n",
       "    </tr>\n",
       "    <tr>\n",
       "      <th>2</th>\n",
       "      <td>TRAIN_0000002</td>\n",
       "      <td>nationalfinance.co.om</td>\n",
       "      <td>0</td>\n",
       "    </tr>\n",
       "    <tr>\n",
       "      <th>3</th>\n",
       "      <td>TRAIN_0000003</td>\n",
       "      <td>town.ozora.hokkaido.jp</td>\n",
       "      <td>0</td>\n",
       "    </tr>\n",
       "    <tr>\n",
       "      <th>4</th>\n",
       "      <td>TRAIN_0000004</td>\n",
       "      <td>open24.ie-news.irish/online/Login</td>\n",
       "      <td>1</td>\n",
       "    </tr>\n",
       "  </tbody>\n",
       "</table>\n",
       "</div>"
      ],
      "text/plain": [
       "              ID                                URL  label\n",
       "0  TRAIN_0000000                 poznan.wuoz.gov.pl      0\n",
       "1  TRAIN_0000001                vill.okawa.kochi.jp      0\n",
       "2  TRAIN_0000002              nationalfinance.co.om      0\n",
       "3  TRAIN_0000003             town.ozora.hokkaido.jp      0\n",
       "4  TRAIN_0000004  open24.ie-news.irish/online/Login      1"
      ]
     },
     "metadata": {},
     "output_type": "display_data"
    },
    {
     "data": {
      "text/html": [
       "<div>\n",
       "<style scoped>\n",
       "    .dataframe tbody tr th:only-of-type {\n",
       "        vertical-align: middle;\n",
       "    }\n",
       "\n",
       "    .dataframe tbody tr th {\n",
       "        vertical-align: top;\n",
       "    }\n",
       "\n",
       "    .dataframe thead th {\n",
       "        text-align: right;\n",
       "    }\n",
       "</style>\n",
       "<table border=\"1\" class=\"dataframe\">\n",
       "  <thead>\n",
       "    <tr style=\"text-align: right;\">\n",
       "      <th></th>\n",
       "      <th>ID</th>\n",
       "      <th>URL</th>\n",
       "    </tr>\n",
       "  </thead>\n",
       "  <tbody>\n",
       "    <tr>\n",
       "      <th>0</th>\n",
       "      <td>TEST_0000000</td>\n",
       "      <td>niquelarte.blogspot.com.es</td>\n",
       "    </tr>\n",
       "    <tr>\n",
       "      <th>1</th>\n",
       "      <td>TEST_0000001</td>\n",
       "      <td>northernmetalproducts.com</td>\n",
       "    </tr>\n",
       "    <tr>\n",
       "      <th>2</th>\n",
       "      <td>TEST_0000002</td>\n",
       "      <td>ga.de</td>\n",
       "    </tr>\n",
       "    <tr>\n",
       "      <th>3</th>\n",
       "      <td>TEST_0000003</td>\n",
       "      <td>florawww.eeb.uconn.edu/199300089.html</td>\n",
       "    </tr>\n",
       "    <tr>\n",
       "      <th>4</th>\n",
       "      <td>TEST_0000004</td>\n",
       "      <td>activecity.moscow</td>\n",
       "    </tr>\n",
       "  </tbody>\n",
       "</table>\n",
       "</div>"
      ],
      "text/plain": [
       "             ID                                    URL\n",
       "0  TEST_0000000             niquelarte.blogspot.com.es\n",
       "1  TEST_0000001              northernmetalproducts.com\n",
       "2  TEST_0000002                                  ga.de\n",
       "3  TEST_0000003  florawww.eeb.uconn.edu/199300089.html\n",
       "4  TEST_0000004                      activecity.moscow"
      ]
     },
     "metadata": {},
     "output_type": "display_data"
    }
   ],
   "source": [
    "display(train_df.head())\n",
    "display(test_df.head())"
   ]
  },
  {
   "cell_type": "markdown",
   "metadata": {},
   "source": [
    "## 3. 특성 공학(Feature-Engineering)"
   ]
  },
  {
   "cell_type": "code",
   "execution_count": 5,
   "metadata": {},
   "outputs": [],
   "source": [
    "# 링크의 길이 계산\n",
    "train_df['length'] = train_df['URL'].str.len()\n",
    "test_df['length'] = test_df['URL'].str.len()"
   ]
  },
  {
   "cell_type": "code",
   "execution_count": 6,
   "metadata": {},
   "outputs": [],
   "source": [
    "# \".\", \"/\", \"-\"와 같은 특수문자 개수\n",
    "train_df['special_char'] = train_df['URL'].map(lambda x: sum(1 for s in x if s in '.-/_'))\n",
    "test_df['special_char'] = test_df['URL'].map(lambda x: sum(1 for s in x if s in '.-/_'))"
   ]
  },
  {
   "cell_type": "code",
   "execution_count": 7,
   "metadata": {},
   "outputs": [],
   "source": [
    "# 악성 URL에 들어있는 문자들\n",
    "train_df['words'] = train_df['URL'].map(lambda x: re.sub(r\"[./\\-_]\", \" \", x).split(' '))\n",
    "test_df['words'] = test_df['URL'].map(lambda x: re.sub(r\"[./\\-_]\", \" \", x).split(' '))"
   ]
  },
  {
   "cell_type": "code",
   "execution_count": 8,
   "metadata": {},
   "outputs": [],
   "source": [
    "# 악성 URL의 단어 포함 개수\n",
    "word_list = list(chain.from_iterable(train_df['words'].values)) # 평탄화\n",
    "word_list = set(word_list) # 중복 제거\n",
    "word_list = [word for word in word_list if word.strip()] # 공백 제거"
   ]
  },
  {
   "cell_type": "code",
   "execution_count": 9,
   "metadata": {},
   "outputs": [
    {
     "data": {
      "text/html": [
       "<div>\n",
       "<style scoped>\n",
       "    .dataframe tbody tr th:only-of-type {\n",
       "        vertical-align: middle;\n",
       "    }\n",
       "\n",
       "    .dataframe tbody tr th {\n",
       "        vertical-align: top;\n",
       "    }\n",
       "\n",
       "    .dataframe thead th {\n",
       "        text-align: right;\n",
       "    }\n",
       "</style>\n",
       "<table border=\"1\" class=\"dataframe\">\n",
       "  <thead>\n",
       "    <tr style=\"text-align: right;\">\n",
       "      <th></th>\n",
       "      <th>ID</th>\n",
       "      <th>URL</th>\n",
       "      <th>label</th>\n",
       "      <th>length</th>\n",
       "      <th>special_char</th>\n",
       "      <th>words</th>\n",
       "    </tr>\n",
       "  </thead>\n",
       "  <tbody>\n",
       "    <tr>\n",
       "      <th>0</th>\n",
       "      <td>TRAIN_0000000</td>\n",
       "      <td>poznan.wuoz.gov.pl</td>\n",
       "      <td>0</td>\n",
       "      <td>18</td>\n",
       "      <td>3</td>\n",
       "      <td>[poznan, wuoz, gov, pl]</td>\n",
       "    </tr>\n",
       "    <tr>\n",
       "      <th>1</th>\n",
       "      <td>TRAIN_0000001</td>\n",
       "      <td>vill.okawa.kochi.jp</td>\n",
       "      <td>0</td>\n",
       "      <td>19</td>\n",
       "      <td>3</td>\n",
       "      <td>[vill, okawa, kochi, jp]</td>\n",
       "    </tr>\n",
       "    <tr>\n",
       "      <th>2</th>\n",
       "      <td>TRAIN_0000002</td>\n",
       "      <td>nationalfinance.co.om</td>\n",
       "      <td>0</td>\n",
       "      <td>21</td>\n",
       "      <td>2</td>\n",
       "      <td>[nationalfinance, co, om]</td>\n",
       "    </tr>\n",
       "    <tr>\n",
       "      <th>3</th>\n",
       "      <td>TRAIN_0000003</td>\n",
       "      <td>town.ozora.hokkaido.jp</td>\n",
       "      <td>0</td>\n",
       "      <td>22</td>\n",
       "      <td>3</td>\n",
       "      <td>[town, ozora, hokkaido, jp]</td>\n",
       "    </tr>\n",
       "    <tr>\n",
       "      <th>4</th>\n",
       "      <td>TRAIN_0000004</td>\n",
       "      <td>open24.ie-news.irish/online/Login</td>\n",
       "      <td>1</td>\n",
       "      <td>33</td>\n",
       "      <td>5</td>\n",
       "      <td>[open24, ie, news, irish, online, Login]</td>\n",
       "    </tr>\n",
       "  </tbody>\n",
       "</table>\n",
       "</div>"
      ],
      "text/plain": [
       "              ID                                URL  label  length  \\\n",
       "0  TRAIN_0000000                 poznan.wuoz.gov.pl      0      18   \n",
       "1  TRAIN_0000001                vill.okawa.kochi.jp      0      19   \n",
       "2  TRAIN_0000002              nationalfinance.co.om      0      21   \n",
       "3  TRAIN_0000003             town.ozora.hokkaido.jp      0      22   \n",
       "4  TRAIN_0000004  open24.ie-news.irish/online/Login      1      33   \n",
       "\n",
       "   special_char                                     words  \n",
       "0             3                   [poznan, wuoz, gov, pl]  \n",
       "1             3                  [vill, okawa, kochi, jp]  \n",
       "2             2                 [nationalfinance, co, om]  \n",
       "3             3               [town, ozora, hokkaido, jp]  \n",
       "4             5  [open24, ie, news, irish, online, Login]  "
      ]
     },
     "execution_count": 9,
     "metadata": {},
     "output_type": "execute_result"
    }
   ],
   "source": [
    "train_df.head()"
   ]
  },
  {
   "cell_type": "code",
   "execution_count": null,
   "metadata": {},
   "outputs": [],
   "source": [
    "predictor_1 = MultiModalPredictor(label='label', problem_type='binary')\n",
    "predictor_2 = MultiModalPredictor(label='label', problem_type='binary')\n",
    "predictor_3 = MultiModalPredictor(label='label', problem_type='binary')"
   ]
  },
  {
   "cell_type": "code",
   "execution_count": 6,
   "metadata": {},
   "outputs": [],
   "source": [
    "# 라벨별 가중치 계산\n",
    "weights = compute_class_weight(class_weight='balanced', classes=np.unique(train_df['label']), y=train_df['label'].values)\n",
    "weights /= weights.sum()\n",
    "weights = list(weights)"
   ]
  },
  {
   "cell_type": "code",
   "execution_count": null,
   "metadata": {},
   "outputs": [],
   "source": [
    "predictor_1.fit(\n",
    "    train_data=train_df,\n",
    "    presets='best_quality',\n",
    "    time_limit=None,\n",
    "    column_types = {'URL':'text'},\n",
    "    seed=42,\n",
    "    hyperparameters={\n",
    "        \"model.hf_text.checkpoint_name\": \"r3ddkahili/final-complete-malicious-url-model\",\n",
    "        \"env.per_gpu_batch_size\": 32,\n",
    "        \"optimization.patience\": 3,\n",
    "        \"optimization.loss_function\": \"focal_loss\",\n",
    "        \"optimization.focal_loss.alpha\": weights,\n",
    "    }\n",
    ")"
   ]
  },
  {
   "cell_type": "code",
   "execution_count": null,
   "metadata": {},
   "outputs": [],
   "source": [
    "predictor_2.fit(\n",
    "    train_data=train_df,\n",
    "    presets='best_quality',\n",
    "    time_limit=None,\n",
    "    column_types = {'URL':'text'},\n",
    "    seed=42,\n",
    "    hyperparameters={\n",
    "        \"model.hf_text.checkpoint_name\": \"CrabInHoney/urlbert-tiny-v3-malicious-url-classifier\",\n",
    "        \"env.per_gpu_batch_size\": 32,\n",
    "        \"optimization.patience\": 3,\n",
    "        \"optimization.loss_function\": \"focal_loss\",\n",
    "        \"optimization.focal_loss.alpha\": weights,\n",
    "    }\n",
    ")"
   ]
  },
  {
   "cell_type": "code",
   "execution_count": null,
   "metadata": {},
   "outputs": [],
   "source": [
    "predictor_3.fit(\n",
    "    train_data=train_df,\n",
    "    presets='best_quality',\n",
    "    time_limit=None,\n",
    "    column_types = {'URL':'text'},\n",
    "    seed=42,\n",
    "    hyperparameters={\n",
    "        \"model.hf_text.checkpoint_name\": \"kmack/malicious-url-detection\",\n",
    "        \"env.per_gpu_batch_size\": 32,\n",
    "        \"optimization.patience\": 3,\n",
    "        \"optimization.loss_function\": \"focal_loss\",\n",
    "        \"optimization.focal_loss.alpha\": weights,\n",
    "    }\n",
    ")"
   ]
  },
  {
   "cell_type": "code",
   "execution_count": null,
   "metadata": {},
   "outputs": [],
   "source": [
    "preds_1 = predictor_1.predict_proba(\n",
    "    test_df\n",
    ")"
   ]
  },
  {
   "cell_type": "code",
   "execution_count": null,
   "metadata": {},
   "outputs": [],
   "source": [
    "submission_df = pd.read_csv('./data/sample_submission.csv')"
   ]
  },
  {
   "cell_type": "code",
   "execution_count": null,
   "metadata": {},
   "outputs": [],
   "source": [
    "submission_df['probability'] = preds[1]"
   ]
  },
  {
   "cell_type": "code",
   "execution_count": null,
   "metadata": {},
   "outputs": [],
   "source": [
    "submission_df.to_csv('submission.csv', index=False)"
   ]
  },
  {
   "cell_type": "code",
   "execution_count": 14,
   "metadata": {},
   "outputs": [
    {
     "data": {
      "text/plain": [
       "['./data/']"
      ]
     },
     "execution_count": 14,
     "metadata": {},
     "output_type": "execute_result"
    }
   ],
   "source": [
    "from glob import glob\n",
    "from itertools import combinations\n",
    "\n",
    "model_list = sorted(glob('./data/'))\n",
    "model_list\n",
    "# pairs = list(combinations(model_list, 2))\n",
    "\n",
    "# for pair in pairs:\n",
    "#     print(pair[0], pair[1])"
   ]
  },
  {
   "cell_type": "markdown",
   "metadata": {},
   "source": [
    "### EDA"
   ]
  },
  {
   "cell_type": "code",
   "execution_count": null,
   "metadata": {},
   "outputs": [
    {
     "data": {
      "image/png": "[encoded data removed]",
      "text/plain": [
       "<Figure size 800x500 with 1 Axes>"
      ]
     },
     "metadata": {},
     "output_type": "display_data"
    },
    {
     "data": {
      "image/png": "[encoded data removed]",
      "text/plain": [
       "<Figure size 800x500 with 1 Axes>"
      ]
     },
     "metadata": {},
     "output_type": "display_data"
    }
   ],
   "source": [
    "# 길이, 특수문자의 개수에 따른 악성 URL 개수 분포\n",
    "variables = ['length', 'special_char']\n",
    "\n",
    "for var in variables:\n",
    "    plt.figure(figsize=(8,5))\n",
    "    sns.boxplot(data=train_df, x='label', y=var)\n",
    "    plt.title(f'Boxplot of {var} by malicious_url')\n",
    "    plt.xticks([0, 1], ['Non-Malicious', 'Malicious'])\n",
    "    plt.ylabel(var)\n",
    "    plt.xlabel('is_malicious')\n",
    "    plt.show()"
   ]
  },
  {
   "cell_type": "markdown",
   "metadata": {},
   "source": [
    "* 악성 URL은 정상 URL에 비해 평균적으로 길이기 더 길다.\n",
    "* 악성 URL은 정상 URL에 비해 특수 문자가 더 많이 포함되어있다."
   ]
  },
  {
   "cell_type": "markdown",
   "metadata": {},
   "source": [
    "### 상관관계 분석"
   ]
  },
  {
   "cell_type": "code",
   "execution_count": 30,
   "metadata": {},
   "outputs": [
    {
     "data": {
      "image/png": "[encoded data removed]",
      "text/plain": [
       "<Figure size 800x600 with 2 Axes>"
      ]
     },
     "metadata": {},
     "output_type": "display_data"
    }
   ],
   "source": [
    "# 상관관계 분석\n",
    "corr = train_df[['length', 'special_char']].corr()\n",
    "\n",
    "# 히트맵\n",
    "plt.figure(figsize=(8,6))\n",
    "sns.heatmap(corr, annot=True, fmt='.2f')\n",
    "plt.show()"
   ]
  },
  {
   "cell_type": "code",
   "execution_count": null,
   "metadata": {},
   "outputs": [],
   "source": []
  }
 ],
 "metadata": {
  "kernelspec": {
   "display_name": "malicious_url_venv",
   "language": "python",
   "name": "python3"
  },
  "language_info": {
   "codemirror_mode": {
    "name": "ipython",
    "version": 3
   },
   "file_extension": ".py",
   "mimetype": "text/x-python",
   "name": "python",
   "nbconvert_exporter": "python",
   "pygments_lexer": "ipython3",
   "version": "3.10.13"
  }
 },
 "nbformat": 4,
 "nbformat_minor": 2
}
